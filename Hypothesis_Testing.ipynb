{
  "nbformat": 4,
  "nbformat_minor": 0,
  "metadata": {
    "colab": {
      "private_outputs": true,
      "provenance": [],
      "authorship_tag": "ABX9TyOkVKyG7erTGajEVr6o4BrF",
      "include_colab_link": true
    },
    "kernelspec": {
      "name": "python3",
      "display_name": "Python 3"
    },
    "language_info": {
      "name": "python"
    }
  },
  "cells": [
    {
      "cell_type": "markdown",
      "metadata": {
        "id": "view-in-github",
        "colab_type": "text"
      },
      "source": [
        "<a href=\"https://colab.research.google.com/github/vaisshnavee1410/Hypothesis-Testing.ipynb/blob/main/Hypothesis_Testing.ipynb\" target=\"_parent\"><img src=\"https://colab.research.google.com/assets/colab-badge.svg\" alt=\"Open In Colab\"/></a>"
      ]
    },
    {
      "cell_type": "markdown",
      "source": [
        "# **HYPOTHESIS TESTING**"
      ],
      "metadata": {
        "id": "ueBPHTmFLXsA"
      }
    },
    {
      "cell_type": "markdown",
      "source": [
        "**BACKGROUND:**"
      ],
      "metadata": {
        "id": "0WVf3hGTLXoP"
      }
    },
    {
      "cell_type": "markdown",
      "source": [
        "Bombay hospitality Ltd. operates a franchise model for producing exotic Norwegian dinners\n",
        "throughout New England. The operating cost for a franchise in a week (W) is given by the equation W\n",
        "= $1,000 + $5X, where X represents the number of units produced in a week. Recent feedback from\n",
        "restaurant owners suggests that this cost model may no longer be accurate, as their observed\n",
        "weekly operating costs are higher."
      ],
      "metadata": {
        "id": "MUdi1GYZLTk0"
      }
    },
    {
      "cell_type": "markdown",
      "source": [
        "**OBJECTIVE:**"
      ],
      "metadata": {
        "id": "gKoDP2SkLwZL"
      }
    },
    {
      "cell_type": "markdown",
      "source": [
        "To investigate the restaurant owners' claim about the increase in weekly operating costs using\n",
        "hypothesis testing."
      ],
      "metadata": {
        "id": "ues9epoEL6v8"
      }
    },
    {
      "cell_type": "markdown",
      "source": [
        "**DATA PROVIDED:**"
      ],
      "metadata": {
        "id": "VDSBl-aBL-5D"
      }
    },
    {
      "cell_type": "markdown",
      "source": [
        "• The theoretical weekly operating cost model: W = $1,000 + $5X\n",
        "\n",
        "• Sample of 25 restaurants with a mean weekly cost of Rs. 3,050\n",
        "\n",
        "• Number of units produced in a week (X) follows a normal distribution with a mean (μ) of 600\n",
        "units and a standard deviation (σ) of 25 units"
      ],
      "metadata": {
        "id": "0Cj20IsGML_F"
      }
    },
    {
      "cell_type": "markdown",
      "source": [
        "**ASSIGNMENT TASKS:**"
      ],
      "metadata": {
        "id": "XqcwsGOVMVpw"
      }
    },
    {
      "cell_type": "markdown",
      "source": [
        "1. STATE THE HYPOTHESIS STATEMENT:"
      ],
      "metadata": {
        "id": "gSLp9YPxMeUW"
      }
    },
    {
      "cell_type": "markdown",
      "source": [
        "* Null Hypothesis : The mean weekly operating cost follows the given model.\n",
        "\n",
        "* Alternative Hypothesis : The mean weekly operating cost has increased."
      ],
      "metadata": {
        "id": "h9dwCdDCNN1Z"
      }
    },
    {
      "cell_type": "code",
      "source": [
        "import scipy.stats as stats\n",
        "import numpy as np\n",
        "\n",
        "# Given data\n",
        "sample_mean = 3050  # Sample mean weekly cost\n",
        "X_mean = 600  # Mean number of units produced per week\n",
        "sigma_X = 25  # Standard deviation of units produced\n",
        "n = 25  # Sample size\n",
        "alpha = 0.05  # Significance level\n",
        "\n",
        "theoretical_mean = 1000 + (5 * X_mean)\n",
        "print(\"theoretical mean\",theoretical_mean)\n",
        "\n",
        "sigma_W = 5 * sigma_X\n",
        "print(f\"Sample Mean Weekly Cost: {sample_mean}\")\n",
        "\n",
        "sem = sigma_W / np.sqrt(n)\n",
        "print(f\"Standard Error of Mean: {sem:.2f}\")"
      ],
      "metadata": {
        "id": "HMXCvRQZNP5o"
      },
      "execution_count": null,
      "outputs": []
    },
    {
      "cell_type": "markdown",
      "source": [
        "2. CALCULATE THE TEST STATISTIC:"
      ],
      "metadata": {
        "id": "rHps5ftURIMV"
      }
    },
    {
      "cell_type": "markdown",
      "source": [
        "  Use the following formula to calculate the test statistic (t):\n",
        "\n",
        "where:\n",
        "\n",
        "\n",
        "\n",
        "\n",
        "• ˉ\n",
        "xˉ = sample mean weekly cost (Rs. 3,050)\n",
        "\n",
        "\n",
        "• μ = theoretical mean weekly cost according to the cost model (W = $1,000 + $5X for X = 600\n",
        "units)\n",
        "\n",
        "• σ = 5*25 units\n",
        "\n",
        "• n = sample size (25 restaurants)"
      ],
      "metadata": {
        "id": "OJUXW7PtR100"
      }
    },
    {
      "cell_type": "code",
      "source": [
        "# Calculate test statistic (t)\n",
        "t_statistic = (sample_mean - theoretical_mean) / sem\n",
        "print(f\"Test Statistic (t): {t_statistic:.2f}\")"
      ],
      "metadata": {
        "id": "H8Nka5t2Qon8"
      },
      "execution_count": null,
      "outputs": []
    },
    {
      "cell_type": "markdown",
      "source": [
        "3. DETERMINE THE CRITICAL VALUE:"
      ],
      "metadata": {
        "id": "ypqpqojdSpT9"
      }
    },
    {
      "cell_type": "markdown",
      "source": [
        "Using the alpha level of 5% (α = 0.05), determine the critical value from the standard normal (Z)\n",
        "distribution table."
      ],
      "metadata": {
        "id": "LXtOHoJ6TMVr"
      }
    },
    {
      "cell_type": "code",
      "source": [
        "# Determine the critical value (two-tailed test)\n",
        "critical_value = stats.norm.ppf(1 - alpha / 2)\n",
        "print(f\"Critical Value (Z) at α = {alpha}: {critical_value:.2f}\")"
      ],
      "metadata": {
        "id": "5ZyBIeYDShes"
      },
      "execution_count": null,
      "outputs": []
    },
    {
      "cell_type": "markdown",
      "source": [
        "4. MAKE A DECISION:"
      ],
      "metadata": {
        "id": "EpCDjJKYVmqF"
      }
    },
    {
      "cell_type": "markdown",
      "source": [
        "Compare the test statistic with the critical value to decide whether to reject the null hypothesis."
      ],
      "metadata": {
        "id": "WCIUimuBX9OJ"
      }
    },
    {
      "cell_type": "code",
      "source": [
        "# Decision Compare test statistic with critical value\n",
        "if abs(t_statistic) > critical_value:\n",
        "    print(\"Reject the null hypothesis: There is evidence that weekly operating costs have increased.\")\n",
        "else:\n",
        "    print(\"Fail to reject the null hypothesis: There is no significant evidence of an increase in costs.\")"
      ],
      "metadata": {
        "id": "DQ8OP-fMTb6P"
      },
      "execution_count": null,
      "outputs": []
    },
    {
      "cell_type": "markdown",
      "source": [
        "Comparison of Test Statistic and Critical Value:\n",
        "\n",
        "  •\tTest Statistic (t) = -38.00\n",
        "\n",
        "  •\tCritical Value (Z) at α = 0.05 = ±1.96\n",
        "\n",
        "•\tDecision: Since |t| = 38.00 > 1.96, we reject the null hypothesis."
      ],
      "metadata": {
        "id": "1fSe-CXEWnxj"
      }
    },
    {
      "cell_type": "markdown",
      "source": [
        "5. CONCLUSION:"
      ],
      "metadata": {
        "id": "nlQ49he1XvqN"
      }
    },
    {
      "cell_type": "markdown",
      "source": [
        "Since the test statistic (-38.00) is far beyond the critical value (±1.96), we reject the null hypothesis at the 5% significance level. This means there is strong statistical evidence to support the restaurant owners’ claim that the weekly operating costs are higher than the theoretical model predicts.\n",
        "\n",
        "The observed mean weekly cost of ₹3,050 is significantly lower than the predicted cost of ₹4,000, suggesting that the existing cost model is outdated or inaccurate. The company may need to reassess its cost structure to align with real-world observations."
      ],
      "metadata": {
        "id": "wIlavap_XuK5"
      }
    }
  ]
}